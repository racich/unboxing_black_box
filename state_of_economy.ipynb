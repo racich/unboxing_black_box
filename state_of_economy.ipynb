{
 "cells": [
  {
   "cell_type": "code",
   "execution_count": 72,
   "outputs": [],
   "source": [
    "import numpy as np\n",
    "import pandas as pd\n",
    "from sklearn.preprocessing import LabelEncoder\n",
    "import warnings\n",
    "warnings.filterwarnings('ignore')\n",
    "import matplotlib.pyplot as plt\n",
    "import seaborn as sns"
   ],
   "metadata": {
    "collapsed": false,
    "pycharm": {
     "name": "#%%\n"
    }
   }
  },
  {
   "cell_type": "markdown",
   "source": [],
   "metadata": {
    "collapsed": false,
    "pycharm": {
     "name": "#%% md\n"
    }
   }
  },
  {
   "cell_type": "code",
   "execution_count": 73,
   "outputs": [
    {
     "name": "stdout",
     "output_type": "stream",
     "text": [
      "(1670214, 37)\n",
      "['Approved' 'Refused' 'Canceled' 'Unused offer']\n"
     ]
    }
   ],
   "source": [
    "previous_application_data = pd.read_csv('data/previous_application.csv')\n",
    "print(previous_application_data.shape)\n",
    "# Display the first few rows of the DataFrame\n",
    "print(previous_application_data['NAME_CONTRACT_STATUS'].unique())"
   ],
   "metadata": {
    "collapsed": false,
    "pycharm": {
     "name": "#%%\n"
    }
   }
  },
  {
   "cell_type": "code",
   "execution_count": 74,
   "outputs": [
    {
     "name": "stdout",
     "output_type": "stream",
     "text": [
      "['Approved' 'Refused' 'Canceled' 'Unused offer']\n"
     ]
    }
   ],
   "source": [
    "print(previous_application_data['NAME_CONTRACT_STATUS'].unique())"
   ],
   "metadata": {
    "collapsed": false,
    "pycharm": {
     "name": "#%%\n"
    }
   }
  },
  {
   "cell_type": "code",
   "execution_count": 75,
   "outputs": [
    {
     "name": "stdout",
     "output_type": "stream",
     "text": [
      "['Approved' 'Refused' 'Canceled' 'Unused offer']\n"
     ]
    },
    {
     "data": {
      "text/plain": "         SK_ID_CURR NAME_CONTRACT_STATUS  REJECTED\n0            271877             Approved         0\n1            108129             Approved         0\n2            122040             Approved         0\n3            176158             Approved         0\n4            202054              Refused         1\n...             ...                  ...       ...\n1670209      352015             Approved         0\n1670210      334635             Approved         0\n1670211      249544             Approved         0\n1670212      400317             Approved         0\n1670213      261212             Approved         0\n\n[1670214 rows x 3 columns]",
      "text/html": "<div>\n<style scoped>\n    .dataframe tbody tr th:only-of-type {\n        vertical-align: middle;\n    }\n\n    .dataframe tbody tr th {\n        vertical-align: top;\n    }\n\n    .dataframe thead th {\n        text-align: right;\n    }\n</style>\n<table border=\"1\" class=\"dataframe\">\n  <thead>\n    <tr style=\"text-align: right;\">\n      <th></th>\n      <th>SK_ID_CURR</th>\n      <th>NAME_CONTRACT_STATUS</th>\n      <th>REJECTED</th>\n    </tr>\n  </thead>\n  <tbody>\n    <tr>\n      <th>0</th>\n      <td>271877</td>\n      <td>Approved</td>\n      <td>0</td>\n    </tr>\n    <tr>\n      <th>1</th>\n      <td>108129</td>\n      <td>Approved</td>\n      <td>0</td>\n    </tr>\n    <tr>\n      <th>2</th>\n      <td>122040</td>\n      <td>Approved</td>\n      <td>0</td>\n    </tr>\n    <tr>\n      <th>3</th>\n      <td>176158</td>\n      <td>Approved</td>\n      <td>0</td>\n    </tr>\n    <tr>\n      <th>4</th>\n      <td>202054</td>\n      <td>Refused</td>\n      <td>1</td>\n    </tr>\n    <tr>\n      <th>...</th>\n      <td>...</td>\n      <td>...</td>\n      <td>...</td>\n    </tr>\n    <tr>\n      <th>1670209</th>\n      <td>352015</td>\n      <td>Approved</td>\n      <td>0</td>\n    </tr>\n    <tr>\n      <th>1670210</th>\n      <td>334635</td>\n      <td>Approved</td>\n      <td>0</td>\n    </tr>\n    <tr>\n      <th>1670211</th>\n      <td>249544</td>\n      <td>Approved</td>\n      <td>0</td>\n    </tr>\n    <tr>\n      <th>1670212</th>\n      <td>400317</td>\n      <td>Approved</td>\n      <td>0</td>\n    </tr>\n    <tr>\n      <th>1670213</th>\n      <td>261212</td>\n      <td>Approved</td>\n      <td>0</td>\n    </tr>\n  </tbody>\n</table>\n<p>1670214 rows × 3 columns</p>\n</div>"
     },
     "execution_count": 75,
     "metadata": {},
     "output_type": "execute_result"
    }
   ],
   "source": [
    "rejected_borrowers=pd.DataFrame(previous_application_data['SK_ID_CURR'])\n",
    "rejected_borrowers['NAME_CONTRACT_STATUS']=previous_application_data['NAME_CONTRACT_STATUS']\n",
    "rejected_borrowers = rejected_borrowers.dropna()\n",
    "\n",
    "rejected_borrowers['REJECTED'] = np.where(rejected_borrowers['NAME_CONTRACT_STATUS'] == 'Refused', 1, 0)\n",
    "print(previous_application_data['NAME_CONTRACT_STATUS'].unique())\n",
    "#rejected_borrowers['REJECTED'] = 1\n",
    "rejected_borrowers"
   ],
   "metadata": {
    "collapsed": false,
    "pycharm": {
     "name": "#%%\n"
    }
   }
  },
  {
   "cell_type": "code",
   "execution_count": 76,
   "outputs": [
    {
     "name": "stdout",
     "output_type": "stream",
     "text": [
      "(338857, 3)\n"
     ]
    }
   ],
   "source": [
    "rejected_borrowers_sorted=rejected_borrowers.sort_values(by='REJECTED', ascending=False)\n",
    "rejected_borrowers_final=rejected_borrowers_sorted.drop_duplicates(subset='SK_ID_CURR', keep='first')\n",
    "print(rejected_borrowers_final.shape)"
   ],
   "metadata": {
    "collapsed": false,
    "pycharm": {
     "name": "#%%\n"
    }
   }
  },
  {
   "cell_type": "code",
   "execution_count": 77,
   "outputs": [
    {
     "data": {
      "text/plain": "<Figure size 640x480 with 1 Axes>",
      "image/png": "[encoded data removed]"
     },
     "metadata": {},
     "output_type": "display_data"
    }
   ],
   "source": [
    "rejected_borrowers_final['REJECTED'].astype(int).plot.hist();\n"
   ],
   "metadata": {
    "collapsed": false,
    "pycharm": {
     "name": "#%%\n"
    }
   }
  },
  {
   "cell_type": "code",
   "execution_count": 78,
   "outputs": [
    {
     "name": "stdout",
     "output_type": "stream",
     "text": [
      "(307511, 240)\n"
     ]
    }
   ],
   "source": [
    "%store -r xgb_data\n",
    "print(xgb_data.shape)\n",
    "xgb_data_risk=pd.merge(xgb_data,rejected_borrowers_final, on='SK_ID_CURR', how='inner').fillna(0)"
   ],
   "metadata": {
    "collapsed": false,
    "pycharm": {
     "name": "#%%\n"
    }
   }
  },
  {
   "cell_type": "code",
   "execution_count": 80,
   "outputs": [
    {
     "name": "stdout",
     "output_type": "stream",
     "text": [
      "(291057, 242)\n",
      "(291057, 241)\n",
      "Stored 'xgb_data_risk' (DataFrame)\n"
     ]
    }
   ],
   "source": [
    "print(xgb_data_risk.shape)\n",
    "xgb_data_risk = xgb_data_risk.drop('NAME_CONTRACT_STATUS', axis=1)\n",
    "print(xgb_data_risk.shape)\n",
    "%store  xgb_data_risk"
   ],
   "metadata": {
    "collapsed": false,
    "pycharm": {
     "name": "#%%\n"
    }
   }
  },
  {
   "cell_type": "markdown",
   "source": [],
   "metadata": {
    "collapsed": false,
    "pycharm": {
     "name": "#%% md\n"
    }
   }
  },
  {
   "cell_type": "markdown",
   "source": [
    "bureau.csv AMT_CREDIT_MAX_OVERDUE\n"
   ],
   "metadata": {
    "collapsed": false,
    "pycharm": {
     "name": "#%% md\n"
    }
   }
  },
  {
   "cell_type": "markdown",
   "source": [],
   "metadata": {
    "collapsed": false,
    "pycharm": {
     "name": "#%% md\n"
    }
   }
  },
  {
   "cell_type": "code",
   "execution_count": 48,
   "outputs": [
    {
     "name": "stdout",
     "output_type": "stream",
     "text": [
      "(7453, 230)\n",
      "Stored 'xgb_rej' (DataFrame)\n"
     ]
    }
   ],
   "source": [],
   "metadata": {
    "collapsed": false,
    "pycharm": {
     "name": "#%%\n"
    }
   }
  },
  {
   "cell_type": "code",
   "execution_count": 15,
   "outputs": [],
   "source": [],
   "metadata": {
    "collapsed": false,
    "pycharm": {
     "name": "#%%\n"
    }
   }
  }
 ],
 "metadata": {
  "kernelspec": {
   "display_name": "Python 3",
   "language": "python",
   "name": "python3"
  },
  "language_info": {
   "codemirror_mode": {
    "name": "ipython",
    "version": 2
   },
   "file_extension": ".py",
   "mimetype": "text/x-python",
   "name": "python",
   "nbconvert_exporter": "python",
   "pygments_lexer": "ipython2",
   "version": "2.7.6"
  }
 },
 "nbformat": 4,
 "nbformat_minor": 0
}