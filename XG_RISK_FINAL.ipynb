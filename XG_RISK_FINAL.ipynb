{
 "cells": [
  {
   "cell_type": "markdown",
   "source": [
    "### XG\n",
    "#### REGULATOR"
   ],
   "metadata": {
    "collapsed": false,
    "pycharm": {
     "name": "#%% md\n"
    }
   }
  },
  {
   "cell_type": "code",
   "execution_count": 47,
   "outputs": [
    {
     "name": "stdout",
     "output_type": "stream",
     "text": [
      "[0]\ttrain-rmse:0.21825\n",
      "[1]\ttrain-rmse:0.16000\n",
      "[2]\ttrain-rmse:0.12124\n",
      "[3]\ttrain-rmse:0.09639\n",
      "[4]\ttrain-rmse:0.08122\n",
      "[5]\ttrain-rmse:0.07201\n",
      "[6]\ttrain-rmse:0.06675\n",
      "[7]\ttrain-rmse:0.06366\n",
      "[8]\ttrain-rmse:0.06171\n",
      "[9]\ttrain-rmse:0.06054\n",
      "[10]\ttrain-rmse:0.05950\n",
      "[11]\ttrain-rmse:0.05869\n",
      "[12]\ttrain-rmse:0.05807\n",
      "[13]\ttrain-rmse:0.05752\n",
      "[14]\ttrain-rmse:0.05709\n",
      "[15]\ttrain-rmse:0.05668\n",
      "[16]\ttrain-rmse:0.05641\n",
      "[17]\ttrain-rmse:0.05628\n",
      "[18]\ttrain-rmse:0.05622\n",
      "[19]\ttrain-rmse:0.05604\n",
      "[20]\ttrain-rmse:0.05574\n",
      "[21]\ttrain-rmse:0.05556\n",
      "[22]\ttrain-rmse:0.05524\n",
      "[23]\ttrain-rmse:0.05499\n",
      "[24]\ttrain-rmse:0.05488\n",
      "[25]\ttrain-rmse:0.05452\n",
      "[26]\ttrain-rmse:0.05433\n",
      "[27]\ttrain-rmse:0.05402\n",
      "[28]\ttrain-rmse:0.05369\n",
      "[29]\ttrain-rmse:0.05356\n",
      "[30]\ttrain-rmse:0.05321\n",
      "[31]\ttrain-rmse:0.05297\n",
      "[32]\ttrain-rmse:0.05280\n",
      "[33]\ttrain-rmse:0.05242\n",
      "[34]\ttrain-rmse:0.05213\n",
      "[35]\ttrain-rmse:0.05198\n",
      "[36]\ttrain-rmse:0.05170\n",
      "[37]\ttrain-rmse:0.05128\n",
      "[38]\ttrain-rmse:0.05109\n",
      "[39]\ttrain-rmse:0.05063\n",
      "[40]\ttrain-rmse:0.05051\n",
      "[41]\ttrain-rmse:0.05015\n",
      "[42]\ttrain-rmse:0.04983\n",
      "[43]\ttrain-rmse:0.04953\n",
      "[44]\ttrain-rmse:0.04931\n",
      "[45]\ttrain-rmse:0.04898\n",
      "[46]\ttrain-rmse:0.04871\n",
      "[47]\ttrain-rmse:0.04862\n",
      "[48]\ttrain-rmse:0.04834\n",
      "[49]\ttrain-rmse:0.04812\n",
      "[50]\ttrain-rmse:0.04789\n",
      "[51]\ttrain-rmse:0.04779\n",
      "[52]\ttrain-rmse:0.04750\n",
      "[53]\ttrain-rmse:0.04732\n",
      "[54]\ttrain-rmse:0.04698\n",
      "[55]\ttrain-rmse:0.04684\n",
      "[56]\ttrain-rmse:0.04671\n",
      "[57]\ttrain-rmse:0.04632\n",
      "[58]\ttrain-rmse:0.04601\n",
      "[59]\ttrain-rmse:0.04571\n",
      "[60]\ttrain-rmse:0.04555\n",
      "[61]\ttrain-rmse:0.04520\n",
      "[62]\ttrain-rmse:0.04491\n",
      "[63]\ttrain-rmse:0.04484\n",
      "[64]\ttrain-rmse:0.04459\n",
      "[65]\ttrain-rmse:0.04435\n",
      "[66]\ttrain-rmse:0.04397\n",
      "[67]\ttrain-rmse:0.04390\n",
      "[68]\ttrain-rmse:0.04386\n",
      "[69]\ttrain-rmse:0.04377\n",
      "[70]\ttrain-rmse:0.04357\n",
      "[71]\ttrain-rmse:0.04347\n",
      "[72]\ttrain-rmse:0.04332\n",
      "[73]\ttrain-rmse:0.04308\n",
      "[74]\ttrain-rmse:0.04290\n",
      "[75]\ttrain-rmse:0.04284\n",
      "[76]\ttrain-rmse:0.04263\n",
      "[77]\ttrain-rmse:0.04246\n",
      "[78]\ttrain-rmse:0.04237\n",
      "[79]\ttrain-rmse:0.04210\n",
      "[80]\ttrain-rmse:0.04183\n",
      "[81]\ttrain-rmse:0.04161\n",
      "[82]\ttrain-rmse:0.04151\n",
      "[83]\ttrain-rmse:0.04146\n",
      "[84]\ttrain-rmse:0.04124\n",
      "[85]\ttrain-rmse:0.04110\n",
      "[86]\ttrain-rmse:0.04068\n",
      "[87]\ttrain-rmse:0.04040\n",
      "[88]\ttrain-rmse:0.04023\n",
      "[89]\ttrain-rmse:0.04007\n",
      "[90]\ttrain-rmse:0.03993\n",
      "[91]\ttrain-rmse:0.03955\n",
      "[92]\ttrain-rmse:0.03945\n",
      "[93]\ttrain-rmse:0.03918\n",
      "[94]\ttrain-rmse:0.03893\n",
      "[95]\ttrain-rmse:0.03863\n",
      "[96]\ttrain-rmse:0.03849\n",
      "[97]\ttrain-rmse:0.03838\n",
      "[98]\ttrain-rmse:0.03817\n",
      "[99]\ttrain-rmse:0.03798\n",
      "Mean Squared Error on the testing set: 0.029424800799507836\n"
     ]
    },
    {
     "name": "stderr",
     "output_type": "stream",
     "text": [
      "/Users/radimbadr/miniconda3/envs/unboxing_black_box/lib/python3.10/site-packages/sklearn/utils/validation.py:605: FutureWarning: is_sparse is deprecated and will be removed in a future version. Check `isinstance(dtype, pd.SparseDtype)` instead.\n",
      "  if is_sparse(pd_dtype):\n",
      "/Users/radimbadr/miniconda3/envs/unboxing_black_box/lib/python3.10/site-packages/sklearn/utils/validation.py:614: FutureWarning: is_sparse is deprecated and will be removed in a future version. Check `isinstance(dtype, pd.SparseDtype)` instead.\n",
      "  if is_sparse(pd_dtype) or not is_extension_array_dtype(pd_dtype):\n"
     ]
    }
   ],
   "source": [
    "%store -r xgb_data_risk\n",
    "import xgboost as xgb\n",
    "from sklearn.model_selection import train_test_split\n",
    "from sklearn.metrics import mean_squared_error\n",
    "\n",
    "# Assuming xgb_data_risk is your DataFrame and contains the features, target variable 'target', and the column 'REJECTED'\n",
    "\n",
    "# Separate the DataFrame into features and target\n",
    "X = xgb_data_risk.drop('TARGET', axis=1)\n",
    "y = xgb_data_risk['TARGET']\n",
    "\n",
    "\n",
    "\n",
    "# Select only the observations where 'REJECTED' equals 1 for training\n",
    "X_train = X[X['REJECTED'] == 1]\n",
    "y_train = y[X['REJECTED'] == 1]\n",
    "\n",
    "# Preparing the full dataset for testing\n",
    "X_test = X.copy()\n",
    "y_test = y.copy()\n",
    "\n",
    "# Convert the training and testing sets into DMatrix, which is an internal data structure that XGBoost uses for optimized performance and efficiency\n",
    "dtrain = xgb.DMatrix(X_train, label=y_train)\n",
    "dtest = xgb.DMatrix(X_test, label=y_test)\n",
    "\n",
    "# Set up the parameters for XGBoost\n",
    "params = {\n",
    "    'objective': 'reg:squarederror',\n",
    "    'eval_metric': 'rmse',  # Using RMSE (root mean squared error) as the evaluation metric\n",
    "}\n",
    "\n",
    "# Train the model\n",
    "bst = xgb.train(params, dtrain, num_boost_round=100, evals=[(dtrain, 'train')])\n",
    "\n",
    "# Make predictions on the testing set\n",
    "y_pred_xg_reg = bst.predict(dtest)\n",
    "\n",
    "# Calculate MSE on the testing set\n",
    "mse = mean_squared_error(y_test, y_pred_xg_reg)\n",
    "print(f\"Mean Squared Error on the testing set: {mse}\")"
   ],
   "metadata": {
    "collapsed": false,
    "pycharm": {
     "name": "#%%\n"
    }
   }
  },
  {
   "cell_type": "code",
   "execution_count": 48,
   "outputs": [
    {
     "name": "stdout",
     "output_type": "stream",
     "text": [
      "[0.04413655788170054]\n",
      "[0.0014424796609519262]\n"
     ]
    },
    {
     "name": "stderr",
     "output_type": "stream",
     "text": [
      "/Users/radimbadr/miniconda3/envs/unboxing_black_box/lib/python3.10/site-packages/sklearn/utils/validation.py:605: FutureWarning: is_sparse is deprecated and will be removed in a future version. Check `isinstance(dtype, pd.SparseDtype)` instead.\n",
      "  if is_sparse(pd_dtype):\n",
      "/Users/radimbadr/miniconda3/envs/unboxing_black_box/lib/python3.10/site-packages/sklearn/utils/validation.py:614: FutureWarning: is_sparse is deprecated and will be removed in a future version. Check `isinstance(dtype, pd.SparseDtype)` instead.\n",
      "  if is_sparse(pd_dtype) or not is_extension_array_dtype(pd_dtype):\n",
      "/Users/radimbadr/miniconda3/envs/unboxing_black_box/lib/python3.10/site-packages/sklearn/utils/validation.py:605: FutureWarning: is_sparse is deprecated and will be removed in a future version. Check `isinstance(dtype, pd.SparseDtype)` instead.\n",
      "  if is_sparse(pd_dtype):\n",
      "/Users/radimbadr/miniconda3/envs/unboxing_black_box/lib/python3.10/site-packages/sklearn/utils/validation.py:614: FutureWarning: is_sparse is deprecated and will be removed in a future version. Check `isinstance(dtype, pd.SparseDtype)` instead.\n",
      "  if is_sparse(pd_dtype) or not is_extension_array_dtype(pd_dtype):\n",
      "/Users/radimbadr/miniconda3/envs/unboxing_black_box/lib/python3.10/site-packages/sklearn/utils/validation.py:605: FutureWarning: is_sparse is deprecated and will be removed in a future version. Check `isinstance(dtype, pd.SparseDtype)` instead.\n",
      "  if is_sparse(pd_dtype):\n",
      "/Users/radimbadr/miniconda3/envs/unboxing_black_box/lib/python3.10/site-packages/sklearn/utils/validation.py:614: FutureWarning: is_sparse is deprecated and will be removed in a future version. Check `isinstance(dtype, pd.SparseDtype)` instead.\n",
      "  if is_sparse(pd_dtype) or not is_extension_array_dtype(pd_dtype):\n",
      "/Users/radimbadr/miniconda3/envs/unboxing_black_box/lib/python3.10/site-packages/sklearn/utils/validation.py:605: FutureWarning: is_sparse is deprecated and will be removed in a future version. Check `isinstance(dtype, pd.SparseDtype)` instead.\n",
      "  if is_sparse(pd_dtype):\n",
      "/Users/radimbadr/miniconda3/envs/unboxing_black_box/lib/python3.10/site-packages/sklearn/utils/validation.py:614: FutureWarning: is_sparse is deprecated and will be removed in a future version. Check `isinstance(dtype, pd.SparseDtype)` instead.\n",
      "  if is_sparse(pd_dtype) or not is_extension_array_dtype(pd_dtype):\n"
     ]
    }
   ],
   "source": [
    "xgb_data_risk['y_pred']=y_pred_xg_reg\n",
    "#print(X_test.shape)\n",
    "#mse_pd = mean_squared_error(xgb_data_risk['TARGET'], xgb_data_risk['y_pred'])\n",
    "xgb_data_risk_bad = xgb_data_risk[xgb_data_risk['REJECTED'] == 1]\n",
    "mse_reg_bad=[]\n",
    "mse_reg_good=[]\n",
    "mse_reg_bad.append(mean_squared_error(xgb_data_risk_bad['TARGET'], xgb_data_risk_bad['y_pred']))\n",
    "xgb_data_risk_good = xgb_data_risk[xgb_data_risk['REJECTED'] == 0]\n",
    "mse_reg_good.append(mean_squared_error(xgb_data_risk_good['TARGET'], xgb_data_risk_good['y_pred']))\n",
    "print(mse_reg_good)\n",
    "print(mse_reg_bad)"
   ],
   "metadata": {
    "collapsed": false,
    "pycharm": {
     "name": "#%%\n"
    }
   }
  },
  {
   "cell_type": "markdown",
   "source": [
    "#### Lender\n"
   ],
   "metadata": {
    "collapsed": false,
    "pycharm": {
     "name": "#%% md\n"
    }
   }
  },
  {
   "cell_type": "code",
   "execution_count": 49,
   "outputs": [
    {
     "name": "stdout",
     "output_type": "stream",
     "text": [
      "[0]\ttrain-rmse:0.22302\n",
      "[1]\ttrain-rmse:0.19300\n",
      "[2]\ttrain-rmse:0.17608\n",
      "[3]\ttrain-rmse:0.16697\n",
      "[4]\ttrain-rmse:0.16209\n",
      "[5]\ttrain-rmse:0.15943\n",
      "[6]\ttrain-rmse:0.15786\n",
      "[7]\ttrain-rmse:0.15697\n",
      "[8]\ttrain-rmse:0.15626\n",
      "[9]\ttrain-rmse:0.15580\n",
      "[10]\ttrain-rmse:0.15537\n",
      "[11]\ttrain-rmse:0.15507\n",
      "[12]\ttrain-rmse:0.15483\n",
      "[13]\ttrain-rmse:0.15454\n",
      "[14]\ttrain-rmse:0.15429\n",
      "[15]\ttrain-rmse:0.15403\n",
      "[16]\ttrain-rmse:0.15381\n",
      "[17]\ttrain-rmse:0.15359\n",
      "[18]\ttrain-rmse:0.15342\n",
      "[19]\ttrain-rmse:0.15318\n",
      "[20]\ttrain-rmse:0.15306\n",
      "[21]\ttrain-rmse:0.15290\n",
      "[22]\ttrain-rmse:0.15275\n",
      "[23]\ttrain-rmse:0.15265\n",
      "[24]\ttrain-rmse:0.15246\n",
      "[25]\ttrain-rmse:0.15228\n",
      "[26]\ttrain-rmse:0.15214\n",
      "[27]\ttrain-rmse:0.15195\n",
      "[28]\ttrain-rmse:0.15184\n",
      "[29]\ttrain-rmse:0.15168\n",
      "[30]\ttrain-rmse:0.15155\n",
      "[31]\ttrain-rmse:0.15139\n",
      "[32]\ttrain-rmse:0.15124\n",
      "[33]\ttrain-rmse:0.15116\n",
      "[34]\ttrain-rmse:0.15098\n",
      "[35]\ttrain-rmse:0.15078\n",
      "[36]\ttrain-rmse:0.15068\n",
      "[37]\ttrain-rmse:0.15049\n",
      "[38]\ttrain-rmse:0.15026\n",
      "[39]\ttrain-rmse:0.15006\n",
      "[40]\ttrain-rmse:0.15000\n",
      "[41]\ttrain-rmse:0.14993\n",
      "[42]\ttrain-rmse:0.14980\n",
      "[43]\ttrain-rmse:0.14972\n",
      "[44]\ttrain-rmse:0.14956\n",
      "[45]\ttrain-rmse:0.14936\n",
      "[46]\ttrain-rmse:0.14924\n",
      "[47]\ttrain-rmse:0.14910\n",
      "[48]\ttrain-rmse:0.14899\n",
      "[49]\ttrain-rmse:0.14884\n",
      "[50]\ttrain-rmse:0.14881\n",
      "[51]\ttrain-rmse:0.14869\n",
      "[52]\ttrain-rmse:0.14856\n",
      "[53]\ttrain-rmse:0.14851\n",
      "[54]\ttrain-rmse:0.14831\n",
      "[55]\ttrain-rmse:0.14828\n",
      "[56]\ttrain-rmse:0.14812\n",
      "[57]\ttrain-rmse:0.14803\n",
      "[58]\ttrain-rmse:0.14795\n",
      "[59]\ttrain-rmse:0.14787\n",
      "[60]\ttrain-rmse:0.14775\n",
      "[61]\ttrain-rmse:0.14755\n",
      "[62]\ttrain-rmse:0.14738\n",
      "[63]\ttrain-rmse:0.14726\n",
      "[64]\ttrain-rmse:0.14715\n",
      "[65]\ttrain-rmse:0.14705\n",
      "[66]\ttrain-rmse:0.14702\n",
      "[67]\ttrain-rmse:0.14695\n",
      "[68]\ttrain-rmse:0.14686\n",
      "[69]\ttrain-rmse:0.14673\n",
      "[70]\ttrain-rmse:0.14657\n",
      "[71]\ttrain-rmse:0.14649\n",
      "[72]\ttrain-rmse:0.14635\n",
      "[73]\ttrain-rmse:0.14618\n",
      "[74]\ttrain-rmse:0.14600\n",
      "[75]\ttrain-rmse:0.14589\n",
      "[76]\ttrain-rmse:0.14583\n",
      "[77]\ttrain-rmse:0.14580\n",
      "[78]\ttrain-rmse:0.14571\n",
      "[79]\ttrain-rmse:0.14549\n",
      "[80]\ttrain-rmse:0.14540\n",
      "[81]\ttrain-rmse:0.14529\n",
      "[82]\ttrain-rmse:0.14526\n",
      "[83]\ttrain-rmse:0.14518\n",
      "[84]\ttrain-rmse:0.14515\n",
      "[85]\ttrain-rmse:0.14501\n",
      "[86]\ttrain-rmse:0.14493\n",
      "[87]\ttrain-rmse:0.14473\n",
      "[88]\ttrain-rmse:0.14459\n",
      "[89]\ttrain-rmse:0.14450\n",
      "[90]\ttrain-rmse:0.14445\n",
      "[91]\ttrain-rmse:0.14436\n",
      "[92]\ttrain-rmse:0.14423\n",
      "[93]\ttrain-rmse:0.14399\n",
      "[94]\ttrain-rmse:0.14384\n",
      "[95]\ttrain-rmse:0.14370\n",
      "[96]\ttrain-rmse:0.14362\n",
      "[97]\ttrain-rmse:0.14357\n",
      "[98]\ttrain-rmse:0.14348\n",
      "[99]\ttrain-rmse:0.14344\n",
      "Mean Squared Error on the testing set: 0.020574428257846576\n"
     ]
    },
    {
     "name": "stderr",
     "output_type": "stream",
     "text": [
      "/Users/radimbadr/miniconda3/envs/unboxing_black_box/lib/python3.10/site-packages/sklearn/utils/validation.py:605: FutureWarning: is_sparse is deprecated and will be removed in a future version. Check `isinstance(dtype, pd.SparseDtype)` instead.\n",
      "  if is_sparse(pd_dtype):\n",
      "/Users/radimbadr/miniconda3/envs/unboxing_black_box/lib/python3.10/site-packages/sklearn/utils/validation.py:614: FutureWarning: is_sparse is deprecated and will be removed in a future version. Check `isinstance(dtype, pd.SparseDtype)` instead.\n",
      "  if is_sparse(pd_dtype) or not is_extension_array_dtype(pd_dtype):\n"
     ]
    }
   ],
   "source": [
    "%store -r xgb_data_risk\n",
    "import xgboost as xgb\n",
    "from sklearn.model_selection import train_test_split\n",
    "from sklearn.metrics import mean_squared_error\n",
    "\n",
    "# Assuming xgb_data_risk is your DataFrame and contains the features, target variable 'target', and the column 'REJECTED'\n",
    "\n",
    "# Separate the DataFrame into features and target\n",
    "X = xgb_data_risk.drop('TARGET', axis=1)\n",
    "y = xgb_data_risk['TARGET']\n",
    "\n",
    "\n",
    "\n",
    "# Select only the observations where 'REJECTED' equals 1 for training\n",
    "X_train=X\n",
    "X_train['weights'] = X['REJECTED'].replace({0: 0.8, 1: 0.2})\n",
    "y_train=y\n",
    "\n",
    "#print(X_train)\n",
    "X_train.drop('REJECTED', axis=1)\n",
    "\n",
    "# Preparing the full dataset for testing\n",
    "X_test = X.copy()\n",
    "y_test = y.copy()\n",
    "\n",
    "# Convert the training and testing sets into DMatrix, which is an internal data structure that XGBoost uses for optimized performance and efficiency\n",
    "dtrain = xgb.DMatrix(X_train, label=y_train)\n",
    "dtest = xgb.DMatrix(X_test, label=y_test)\n",
    "\n",
    "# Set up the parameters for XGBoost\n",
    "params = {\n",
    "    'objective': 'reg:squarederror',\n",
    "    'eval_metric': 'rmse',  # Using RMSE (root mean squared error) as the evaluation metric\n",
    "}\n",
    "\n",
    "# Train the model\n",
    "bst = xgb.train(params, dtrain, num_boost_round=100, evals=[(dtrain, 'train')])\n",
    "\n",
    "# Make predictions on the testing set\n",
    "y_pred_xg_len = bst.predict(dtest)\n",
    "\n",
    "# Calculate MSE on the testing set\n",
    "mse = mean_squared_error(y_test, y_pred_xg_len)\n",
    "print(f\"Mean Squared Error on the testing set: {mse}\")"
   ],
   "metadata": {
    "collapsed": false,
    "pycharm": {
     "name": "#%%\n"
    }
   }
  },
  {
   "cell_type": "code",
   "execution_count": 50,
   "outputs": [
    {
     "name": "stderr",
     "output_type": "stream",
     "text": [
      "/Users/radimbadr/miniconda3/envs/unboxing_black_box/lib/python3.10/site-packages/sklearn/utils/validation.py:605: FutureWarning: is_sparse is deprecated and will be removed in a future version. Check `isinstance(dtype, pd.SparseDtype)` instead.\n",
      "  if is_sparse(pd_dtype):\n",
      "/Users/radimbadr/miniconda3/envs/unboxing_black_box/lib/python3.10/site-packages/sklearn/utils/validation.py:614: FutureWarning: is_sparse is deprecated and will be removed in a future version. Check `isinstance(dtype, pd.SparseDtype)` instead.\n",
      "  if is_sparse(pd_dtype) or not is_extension_array_dtype(pd_dtype):\n",
      "/Users/radimbadr/miniconda3/envs/unboxing_black_box/lib/python3.10/site-packages/sklearn/utils/validation.py:605: FutureWarning: is_sparse is deprecated and will be removed in a future version. Check `isinstance(dtype, pd.SparseDtype)` instead.\n",
      "  if is_sparse(pd_dtype):\n",
      "/Users/radimbadr/miniconda3/envs/unboxing_black_box/lib/python3.10/site-packages/sklearn/utils/validation.py:614: FutureWarning: is_sparse is deprecated and will be removed in a future version. Check `isinstance(dtype, pd.SparseDtype)` instead.\n",
      "  if is_sparse(pd_dtype) or not is_extension_array_dtype(pd_dtype):\n"
     ]
    },
    {
     "name": "stdout",
     "output_type": "stream",
     "text": [
      "[0.04413655788170054, 0.031229224001336132]\n",
      "[0.0014424796609519262, 0.00030860178352808815]\n"
     ]
    },
    {
     "name": "stderr",
     "output_type": "stream",
     "text": [
      "/Users/radimbadr/miniconda3/envs/unboxing_black_box/lib/python3.10/site-packages/sklearn/utils/validation.py:605: FutureWarning: is_sparse is deprecated and will be removed in a future version. Check `isinstance(dtype, pd.SparseDtype)` instead.\n",
      "  if is_sparse(pd_dtype):\n",
      "/Users/radimbadr/miniconda3/envs/unboxing_black_box/lib/python3.10/site-packages/sklearn/utils/validation.py:614: FutureWarning: is_sparse is deprecated and will be removed in a future version. Check `isinstance(dtype, pd.SparseDtype)` instead.\n",
      "  if is_sparse(pd_dtype) or not is_extension_array_dtype(pd_dtype):\n",
      "/Users/radimbadr/miniconda3/envs/unboxing_black_box/lib/python3.10/site-packages/sklearn/utils/validation.py:605: FutureWarning: is_sparse is deprecated and will be removed in a future version. Check `isinstance(dtype, pd.SparseDtype)` instead.\n",
      "  if is_sparse(pd_dtype):\n",
      "/Users/radimbadr/miniconda3/envs/unboxing_black_box/lib/python3.10/site-packages/sklearn/utils/validation.py:614: FutureWarning: is_sparse is deprecated and will be removed in a future version. Check `isinstance(dtype, pd.SparseDtype)` instead.\n",
      "  if is_sparse(pd_dtype) or not is_extension_array_dtype(pd_dtype):\n"
     ]
    }
   ],
   "source": [
    "xgb_data_risk['y_pred_len']=y_pred_xg_len\n",
    "#print(X_test.shape)\n",
    "#mse_pd = mean_squared_error(xgb_data_risk['TARGET'], xgb_data_risk['y_pred'])\n",
    "xgb_data_risk_bad = xgb_data_risk[xgb_data_risk['REJECTED'] == 1]\n",
    "\n",
    "mse_reg_bad.append(mean_squared_error(xgb_data_risk_bad['TARGET'], xgb_data_risk_bad['y_pred_len']))\n",
    "xgb_data_risk_good = xgb_data_risk[xgb_data_risk['REJECTED'] == 0]\n",
    "mse_reg_good.append(mean_squared_error(xgb_data_risk_good['TARGET'], xgb_data_risk_good['y_pred_len']))\n",
    "print(mse_reg_good)\n",
    "print(mse_reg_bad)"
   ],
   "metadata": {
    "collapsed": false,
    "pycharm": {
     "name": "#%%\n"
    }
   }
  },
  {
   "cell_type": "markdown",
   "source": [
    "### Linear Model"
   ],
   "metadata": {
    "collapsed": false,
    "pycharm": {
     "name": "#%% md\n"
    }
   }
  },
  {
   "cell_type": "code",
   "execution_count": 51,
   "outputs": [
    {
     "name": "stderr",
     "output_type": "stream",
     "text": [
      "/Users/radimbadr/miniconda3/envs/unboxing_black_box/lib/python3.10/site-packages/sklearn/utils/validation.py:767: FutureWarning: is_sparse is deprecated and will be removed in a future version. Check `isinstance(dtype, pd.SparseDtype)` instead.\n",
      "  if not hasattr(array, \"sparse\") and array.dtypes.apply(is_sparse).any():\n",
      "/Users/radimbadr/miniconda3/envs/unboxing_black_box/lib/python3.10/site-packages/sklearn/utils/validation.py:605: FutureWarning: is_sparse is deprecated and will be removed in a future version. Check `isinstance(dtype, pd.SparseDtype)` instead.\n",
      "  if is_sparse(pd_dtype):\n",
      "/Users/radimbadr/miniconda3/envs/unboxing_black_box/lib/python3.10/site-packages/sklearn/utils/validation.py:614: FutureWarning: is_sparse is deprecated and will be removed in a future version. Check `isinstance(dtype, pd.SparseDtype)` instead.\n",
      "  if is_sparse(pd_dtype) or not is_extension_array_dtype(pd_dtype):\n",
      "/Users/radimbadr/miniconda3/envs/unboxing_black_box/lib/python3.10/site-packages/sklearn/utils/validation.py:605: FutureWarning: is_sparse is deprecated and will be removed in a future version. Check `isinstance(dtype, pd.SparseDtype)` instead.\n",
      "  if is_sparse(pd_dtype):\n",
      "/Users/radimbadr/miniconda3/envs/unboxing_black_box/lib/python3.10/site-packages/sklearn/utils/validation.py:614: FutureWarning: is_sparse is deprecated and will be removed in a future version. Check `isinstance(dtype, pd.SparseDtype)` instead.\n",
      "  if is_sparse(pd_dtype) or not is_extension_array_dtype(pd_dtype):\n",
      "/Users/radimbadr/miniconda3/envs/unboxing_black_box/lib/python3.10/site-packages/sklearn/utils/validation.py:767: FutureWarning: is_sparse is deprecated and will be removed in a future version. Check `isinstance(dtype, pd.SparseDtype)` instead.\n",
      "  if not hasattr(array, \"sparse\") and array.dtypes.apply(is_sparse).any():\n",
      "/Users/radimbadr/miniconda3/envs/unboxing_black_box/lib/python3.10/site-packages/sklearn/utils/validation.py:605: FutureWarning: is_sparse is deprecated and will be removed in a future version. Check `isinstance(dtype, pd.SparseDtype)` instead.\n",
      "  if is_sparse(pd_dtype):\n",
      "/Users/radimbadr/miniconda3/envs/unboxing_black_box/lib/python3.10/site-packages/sklearn/utils/validation.py:614: FutureWarning: is_sparse is deprecated and will be removed in a future version. Check `isinstance(dtype, pd.SparseDtype)` instead.\n",
      "  if is_sparse(pd_dtype) or not is_extension_array_dtype(pd_dtype):\n"
     ]
    },
    {
     "name": "stdout",
     "output_type": "stream",
     "text": [
      "Mean Squared Error on the testing set: 0.020734820567699683\n"
     ]
    },
    {
     "name": "stderr",
     "output_type": "stream",
     "text": [
      "/Users/radimbadr/miniconda3/envs/unboxing_black_box/lib/python3.10/site-packages/sklearn/utils/validation.py:605: FutureWarning: is_sparse is deprecated and will be removed in a future version. Check `isinstance(dtype, pd.SparseDtype)` instead.\n",
      "  if is_sparse(pd_dtype):\n",
      "/Users/radimbadr/miniconda3/envs/unboxing_black_box/lib/python3.10/site-packages/sklearn/utils/validation.py:614: FutureWarning: is_sparse is deprecated and will be removed in a future version. Check `isinstance(dtype, pd.SparseDtype)` instead.\n",
      "  if is_sparse(pd_dtype) or not is_extension_array_dtype(pd_dtype):\n"
     ]
    }
   ],
   "source": [
    "from sklearn.linear_model import LinearRegression\n",
    "%store -r xgb_data_risk\n",
    "import xgboost as xgb\n",
    "from sklearn.model_selection import train_test_split\n",
    "from sklearn.metrics import mean_squared_error\n",
    "\n",
    "# Assuming xgb_data_risk is your DataFrame and contains the features, target variable 'target', and the column 'REJECTED'\n",
    "\n",
    "# Separate the DataFrame into features and target\n",
    "X = xgb_data_risk.drop('TARGET', axis=1)\n",
    "y = xgb_data_risk['TARGET']\n",
    "\n",
    "\n",
    "\n",
    "# Select only the observations where 'REJECTED' equals 1 for training\n",
    "X_train = X[X['REJECTED'] == 1]\n",
    "y_train = y[X['REJECTED'] == 1]\n",
    "\n",
    "# Preparing the full dataset for testing\n",
    "X_test = X.copy()\n",
    "y_test = y.copy()\n",
    "\n",
    "model_linear = LinearRegression()\n",
    "model_linear.fit(X_train, y_train)\n",
    "\n",
    "    # Make predictions on the test set\n",
    "y_pred_linear_reg = model_linear.predict(X_test)\n",
    "\n",
    "# Calculate MSE on the testing set\n",
    "mse = mean_squared_error(y_test, y_pred_linear_reg)\n",
    "print(f\"Mean Squared Error on the testing set: {mse}\")"
   ],
   "metadata": {
    "collapsed": false,
    "pycharm": {
     "name": "#%%\n"
    }
   }
  },
  {
   "cell_type": "code",
   "execution_count": 52,
   "outputs": [
    {
     "name": "stderr",
     "output_type": "stream",
     "text": [
      "/Users/radimbadr/miniconda3/envs/unboxing_black_box/lib/python3.10/site-packages/sklearn/utils/validation.py:605: FutureWarning: is_sparse is deprecated and will be removed in a future version. Check `isinstance(dtype, pd.SparseDtype)` instead.\n",
      "  if is_sparse(pd_dtype):\n",
      "/Users/radimbadr/miniconda3/envs/unboxing_black_box/lib/python3.10/site-packages/sklearn/utils/validation.py:614: FutureWarning: is_sparse is deprecated and will be removed in a future version. Check `isinstance(dtype, pd.SparseDtype)` instead.\n",
      "  if is_sparse(pd_dtype) or not is_extension_array_dtype(pd_dtype):\n",
      "/Users/radimbadr/miniconda3/envs/unboxing_black_box/lib/python3.10/site-packages/sklearn/utils/validation.py:605: FutureWarning: is_sparse is deprecated and will be removed in a future version. Check `isinstance(dtype, pd.SparseDtype)` instead.\n",
      "  if is_sparse(pd_dtype):\n",
      "/Users/radimbadr/miniconda3/envs/unboxing_black_box/lib/python3.10/site-packages/sklearn/utils/validation.py:614: FutureWarning: is_sparse is deprecated and will be removed in a future version. Check `isinstance(dtype, pd.SparseDtype)` instead.\n",
      "  if is_sparse(pd_dtype) or not is_extension_array_dtype(pd_dtype):\n"
     ]
    },
    {
     "name": "stdout",
     "output_type": "stream",
     "text": [
      "[0.00030289301438098364]\n",
      "[0.031476944260619935]\n"
     ]
    },
    {
     "name": "stderr",
     "output_type": "stream",
     "text": [
      "/Users/radimbadr/miniconda3/envs/unboxing_black_box/lib/python3.10/site-packages/sklearn/utils/validation.py:605: FutureWarning: is_sparse is deprecated and will be removed in a future version. Check `isinstance(dtype, pd.SparseDtype)` instead.\n",
      "  if is_sparse(pd_dtype):\n",
      "/Users/radimbadr/miniconda3/envs/unboxing_black_box/lib/python3.10/site-packages/sklearn/utils/validation.py:614: FutureWarning: is_sparse is deprecated and will be removed in a future version. Check `isinstance(dtype, pd.SparseDtype)` instead.\n",
      "  if is_sparse(pd_dtype) or not is_extension_array_dtype(pd_dtype):\n",
      "/Users/radimbadr/miniconda3/envs/unboxing_black_box/lib/python3.10/site-packages/sklearn/utils/validation.py:605: FutureWarning: is_sparse is deprecated and will be removed in a future version. Check `isinstance(dtype, pd.SparseDtype)` instead.\n",
      "  if is_sparse(pd_dtype):\n",
      "/Users/radimbadr/miniconda3/envs/unboxing_black_box/lib/python3.10/site-packages/sklearn/utils/validation.py:614: FutureWarning: is_sparse is deprecated and will be removed in a future version. Check `isinstance(dtype, pd.SparseDtype)` instead.\n",
      "  if is_sparse(pd_dtype) or not is_extension_array_dtype(pd_dtype):\n"
     ]
    }
   ],
   "source": [
    "xgb_data_risk['y_pred']=y_pred_linear_reg\n",
    "#print(X_test.shape)\n",
    "#mse_pd = mean_squared_error(xgb_data_risk['TARGET'], xgb_data_risk['y_pred'])\n",
    "xgb_data_risk_bad = xgb_data_risk[xgb_data_risk['REJECTED'] == 1]\n",
    "mse_reg_bad_lin=[]\n",
    "mse_reg_good_lin=[]\n",
    "mse_reg_bad_lin.append(mean_squared_error(xgb_data_risk_bad['TARGET'], xgb_data_risk_bad['y_pred']))\n",
    "xgb_data_risk_good = xgb_data_risk[xgb_data_risk['REJECTED'] == 0]\n",
    "mse_reg_good_lin.append(mean_squared_error(xgb_data_risk_good['TARGET'], xgb_data_risk_good['y_pred']))\n",
    "print(mse_reg_bad_lin)\n",
    "print(mse_reg_good_lin)"
   ],
   "metadata": {
    "collapsed": false,
    "pycharm": {
     "name": "#%%\n"
    }
   }
  },
  {
   "cell_type": "code",
   "execution_count": 53,
   "outputs": [
    {
     "name": "stderr",
     "output_type": "stream",
     "text": [
      "/Users/radimbadr/miniconda3/envs/unboxing_black_box/lib/python3.10/site-packages/sklearn/utils/validation.py:767: FutureWarning: is_sparse is deprecated and will be removed in a future version. Check `isinstance(dtype, pd.SparseDtype)` instead.\n",
      "  if not hasattr(array, \"sparse\") and array.dtypes.apply(is_sparse).any():\n",
      "/Users/radimbadr/miniconda3/envs/unboxing_black_box/lib/python3.10/site-packages/sklearn/utils/validation.py:605: FutureWarning: is_sparse is deprecated and will be removed in a future version. Check `isinstance(dtype, pd.SparseDtype)` instead.\n",
      "  if is_sparse(pd_dtype):\n",
      "/Users/radimbadr/miniconda3/envs/unboxing_black_box/lib/python3.10/site-packages/sklearn/utils/validation.py:614: FutureWarning: is_sparse is deprecated and will be removed in a future version. Check `isinstance(dtype, pd.SparseDtype)` instead.\n",
      "  if is_sparse(pd_dtype) or not is_extension_array_dtype(pd_dtype):\n",
      "/Users/radimbadr/miniconda3/envs/unboxing_black_box/lib/python3.10/site-packages/sklearn/utils/validation.py:605: FutureWarning: is_sparse is deprecated and will be removed in a future version. Check `isinstance(dtype, pd.SparseDtype)` instead.\n",
      "  if is_sparse(pd_dtype):\n",
      "/Users/radimbadr/miniconda3/envs/unboxing_black_box/lib/python3.10/site-packages/sklearn/utils/validation.py:614: FutureWarning: is_sparse is deprecated and will be removed in a future version. Check `isinstance(dtype, pd.SparseDtype)` instead.\n",
      "  if is_sparse(pd_dtype) or not is_extension_array_dtype(pd_dtype):\n",
      "/Users/radimbadr/miniconda3/envs/unboxing_black_box/lib/python3.10/site-packages/sklearn/utils/validation.py:767: FutureWarning: is_sparse is deprecated and will be removed in a future version. Check `isinstance(dtype, pd.SparseDtype)` instead.\n",
      "  if not hasattr(array, \"sparse\") and array.dtypes.apply(is_sparse).any():\n",
      "/Users/radimbadr/miniconda3/envs/unboxing_black_box/lib/python3.10/site-packages/sklearn/utils/validation.py:605: FutureWarning: is_sparse is deprecated and will be removed in a future version. Check `isinstance(dtype, pd.SparseDtype)` instead.\n",
      "  if is_sparse(pd_dtype):\n",
      "/Users/radimbadr/miniconda3/envs/unboxing_black_box/lib/python3.10/site-packages/sklearn/utils/validation.py:614: FutureWarning: is_sparse is deprecated and will be removed in a future version. Check `isinstance(dtype, pd.SparseDtype)` instead.\n",
      "  if is_sparse(pd_dtype) or not is_extension_array_dtype(pd_dtype):\n"
     ]
    },
    {
     "name": "stdout",
     "output_type": "stream",
     "text": [
      "Mean Squared Error on the testing set: 0.02007324021318608\n"
     ]
    },
    {
     "name": "stderr",
     "output_type": "stream",
     "text": [
      "/Users/radimbadr/miniconda3/envs/unboxing_black_box/lib/python3.10/site-packages/sklearn/utils/validation.py:605: FutureWarning: is_sparse is deprecated and will be removed in a future version. Check `isinstance(dtype, pd.SparseDtype)` instead.\n",
      "  if is_sparse(pd_dtype):\n",
      "/Users/radimbadr/miniconda3/envs/unboxing_black_box/lib/python3.10/site-packages/sklearn/utils/validation.py:614: FutureWarning: is_sparse is deprecated and will be removed in a future version. Check `isinstance(dtype, pd.SparseDtype)` instead.\n",
      "  if is_sparse(pd_dtype) or not is_extension_array_dtype(pd_dtype):\n"
     ]
    }
   ],
   "source": [
    "%store -r xgb_data_risk\n",
    "import xgboost as xgb\n",
    "from sklearn.model_selection import train_test_split\n",
    "from sklearn.metrics import mean_squared_error\n",
    "from sklearn.linear_model import LinearRegression\n",
    "\n",
    "# Assuming xgb_data_risk is your DataFrame and contains the features, target variable 'target', and the column 'REJECTED'\n",
    "\n",
    "# Separate the DataFrame into features and target\n",
    "X = xgb_data_risk.drop('TARGET', axis=1)\n",
    "y = xgb_data_risk['TARGET']\n",
    "\n",
    "\n",
    "\n",
    "# Select only the observations where 'REJECTED' equals 1 for training\n",
    "X_train=X\n",
    "X_train['weights'] = X['REJECTED'].replace({0: 0.8, 1: 0.2})\n",
    "y_train=y\n",
    "\n",
    "#print(X_train)\n",
    "X_train.drop('REJECTED', axis=1)\n",
    "\n",
    "# Preparing the full dataset for testing\n",
    "X_test = X.copy()\n",
    "y_test = y.copy()\n",
    "\n",
    "model_linear = LinearRegression()\n",
    "model_linear.fit(X_train, y_train)\n",
    "\n",
    "    # Make predictions on the test set\n",
    "y_pred_linear_len = model_linear.predict(X_test)\n",
    "\n",
    "# Calculate MSE on the testing set\n",
    "mse = mean_squared_error(y_test, y_pred_linear_len)\n",
    "print(f\"Mean Squared Error on the testing set: {mse}\")"
   ],
   "metadata": {
    "collapsed": false,
    "pycharm": {
     "name": "#%%\n"
    }
   }
  },
  {
   "cell_type": "code",
   "execution_count": 54,
   "outputs": [
    {
     "name": "stderr",
     "output_type": "stream",
     "text": [
      "/Users/radimbadr/miniconda3/envs/unboxing_black_box/lib/python3.10/site-packages/sklearn/utils/validation.py:605: FutureWarning: is_sparse is deprecated and will be removed in a future version. Check `isinstance(dtype, pd.SparseDtype)` instead.\n",
      "  if is_sparse(pd_dtype):\n",
      "/Users/radimbadr/miniconda3/envs/unboxing_black_box/lib/python3.10/site-packages/sklearn/utils/validation.py:614: FutureWarning: is_sparse is deprecated and will be removed in a future version. Check `isinstance(dtype, pd.SparseDtype)` instead.\n",
      "  if is_sparse(pd_dtype) or not is_extension_array_dtype(pd_dtype):\n",
      "/Users/radimbadr/miniconda3/envs/unboxing_black_box/lib/python3.10/site-packages/sklearn/utils/validation.py:605: FutureWarning: is_sparse is deprecated and will be removed in a future version. Check `isinstance(dtype, pd.SparseDtype)` instead.\n",
      "  if is_sparse(pd_dtype):\n",
      "/Users/radimbadr/miniconda3/envs/unboxing_black_box/lib/python3.10/site-packages/sklearn/utils/validation.py:614: FutureWarning: is_sparse is deprecated and will be removed in a future version. Check `isinstance(dtype, pd.SparseDtype)` instead.\n",
      "  if is_sparse(pd_dtype) or not is_extension_array_dtype(pd_dtype):\n"
     ]
    },
    {
     "name": "stdout",
     "output_type": "stream",
     "text": [
      "[0.00030289301438098364, 0.00048748565320139246]\n",
      "[0.031476944260619935, 0.030370486890157537]\n"
     ]
    },
    {
     "name": "stderr",
     "output_type": "stream",
     "text": [
      "/Users/radimbadr/miniconda3/envs/unboxing_black_box/lib/python3.10/site-packages/sklearn/utils/validation.py:605: FutureWarning: is_sparse is deprecated and will be removed in a future version. Check `isinstance(dtype, pd.SparseDtype)` instead.\n",
      "  if is_sparse(pd_dtype):\n",
      "/Users/radimbadr/miniconda3/envs/unboxing_black_box/lib/python3.10/site-packages/sklearn/utils/validation.py:614: FutureWarning: is_sparse is deprecated and will be removed in a future version. Check `isinstance(dtype, pd.SparseDtype)` instead.\n",
      "  if is_sparse(pd_dtype) or not is_extension_array_dtype(pd_dtype):\n",
      "/Users/radimbadr/miniconda3/envs/unboxing_black_box/lib/python3.10/site-packages/sklearn/utils/validation.py:605: FutureWarning: is_sparse is deprecated and will be removed in a future version. Check `isinstance(dtype, pd.SparseDtype)` instead.\n",
      "  if is_sparse(pd_dtype):\n",
      "/Users/radimbadr/miniconda3/envs/unboxing_black_box/lib/python3.10/site-packages/sklearn/utils/validation.py:614: FutureWarning: is_sparse is deprecated and will be removed in a future version. Check `isinstance(dtype, pd.SparseDtype)` instead.\n",
      "  if is_sparse(pd_dtype) or not is_extension_array_dtype(pd_dtype):\n"
     ]
    }
   ],
   "source": [
    "xgb_data_risk['y_pred']=y_pred_linear_len\n",
    "#print(X_test.shape)\n",
    "#mse_pd = mean_squared_error(xgb_data_risk['TARGET'], xgb_data_risk['y_pred'])\n",
    "xgb_data_risk_bad = xgb_data_risk[xgb_data_risk['REJECTED'] == 1]\n",
    "\n",
    "mse_reg_bad_lin.append(mean_squared_error(xgb_data_risk_bad['TARGET'], xgb_data_risk_bad['y_pred']))\n",
    "xgb_data_risk_good = xgb_data_risk[xgb_data_risk['REJECTED'] == 0]\n",
    "mse_reg_good_lin.append(mean_squared_error(xgb_data_risk_good['TARGET'], xgb_data_risk_good['y_pred']))\n",
    "print(mse_reg_bad_lin)\n",
    "print(mse_reg_good_lin)"
   ],
   "metadata": {
    "collapsed": false,
    "pycharm": {
     "name": "#%%\n"
    }
   }
  },
  {
   "cell_type": "code",
   "execution_count": 70,
   "outputs": [
    {
     "name": "stdout",
     "output_type": "stream",
     "text": [
      "[0.0014424796609519262, 0.00030860178352808815]\n",
      "[0.04413655788170054, 0.031229224001336132]\n",
      "[0.00030289301438098364, 0.00048748565320139246]\n",
      "[0.031476944260619935, 0.030370486890157537]\n"
     ]
    },
    {
     "data": {
      "text/plain": "<Figure size 640x480 with 1 Axes>",
      "image/png": "[encoded data removed]"
     },
     "metadata": {},
     "output_type": "display_data"
    }
   ],
   "source": [
    "import matplotlib.pyplot as plt\n",
    "plt.style.use('dark_background')\n",
    "# Plot the MSE values for different l values\n",
    "print(mse_reg_bad)\n",
    "print(mse_reg_good)\n",
    "\n",
    "print(mse_reg_bad_lin)\n",
    "print(mse_reg_good_lin)\n",
    "plt.plot(mse_reg_good, mse_reg_bad, marker='o', label=\"XGBoost\")\n",
    "anno_lin=[\"Regulator\", \"Lender\"]\n",
    "#for i, txt in enumerate(anno_lin):\n",
    " #   plt.annotate(txt, (l_values_linear[i], mse_reg_values_linear[i]), textcoords=\"offset points\", xytext=(0,10), ha='center')\n",
    "#for i, txt in enumerate(anno_lin):\n",
    "#    plt.annotate(txt, (l_values[i], mse_reg_values[i]), textcoords=\"offset points\", xytext=(0,10), ha='center')\n",
    "\n",
    "#convex\n",
    "\n",
    "\n",
    "\n",
    "plt.plot(mse_reg_good_lin, mse_reg_bad_lin, marker='o', label=\"Linear Model\")\n",
    "#plt.ylim(max(mse_reg_good_lin), min(mse_reg_bad_lin))\n",
    "#plt.xlim(max(mse_reg_good_lin), min(mse_reg_bad_lin))\n",
    "plt.ylabel('Bad MSE')\n",
    "plt.xlabel('Good MSE')\n",
    "plt.title('MSE of Linear Regression Model and XGBoost model')\n",
    "plt.legend()\n",
    "plt.savefig(\"RISK-7\", bbox_inches=\"tight\",\n",
    "            pad_inches=0.3, transparent=True, dpi=300)\n",
    "plt.show()"
   ],
   "metadata": {
    "collapsed": false,
    "pycharm": {
     "name": "#%%\n"
    }
   }
  },
  {
   "cell_type": "code",
   "execution_count": 55,
   "outputs": [],
   "source": [],
   "metadata": {
    "collapsed": false,
    "pycharm": {
     "name": "#%%\n"
    }
   }
  }
 ],
 "metadata": {
  "kernelspec": {
   "display_name": "Python 3",
   "language": "python",
   "name": "python3"
  },
  "language_info": {
   "codemirror_mode": {
    "name": "ipython",
    "version": 2
   },
   "file_extension": ".py",
   "mimetype": "text/x-python",
   "name": "python",
   "nbconvert_exporter": "python",
   "pygments_lexer": "ipython2",
   "version": "2.7.6"
  }
 },
 "nbformat": 4,
 "nbformat_minor": 0
}